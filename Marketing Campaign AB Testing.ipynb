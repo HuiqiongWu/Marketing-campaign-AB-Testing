{
 "cells": [
  {
   "cell_type": "code",
   "execution_count": 74,
   "id": "ba2bc879",
   "metadata": {},
   "outputs": [],
   "source": [
    "import pandas as pd\n",
    "import numpy as np\n",
    "import scipy.stats as stats\n",
    "import seaborn as sns\n",
    "import matplotlib.pyplot as plt\n",
    "import statistics as st"
   ]
  },
  {
   "cell_type": "code",
   "execution_count": 69,
   "id": "78536c7b",
   "metadata": {},
   "outputs": [
    {
     "name": "stdout",
     "output_type": "stream",
     "text": [
      "<class 'pandas.core.frame.DataFrame'>\n",
      "RangeIndex: 548 entries, 0 to 547\n",
      "Data columns (total 7 columns):\n",
      " #   Column            Non-Null Count  Dtype  \n",
      "---  ------            --------------  -----  \n",
      " 0   MarketID          548 non-null    int64  \n",
      " 1   MarketSize        548 non-null    object \n",
      " 2   LocationID        548 non-null    int64  \n",
      " 3   AgeOfStore        548 non-null    int64  \n",
      " 4   Promotion         548 non-null    int64  \n",
      " 5   week              548 non-null    int64  \n",
      " 6   SalesInThousands  548 non-null    float64\n",
      "dtypes: float64(1), int64(5), object(1)\n",
      "memory usage: 30.1+ KB\n"
     ]
    },
    {
     "data": {
      "text/html": [
       "<div>\n",
       "<style scoped>\n",
       "    .dataframe tbody tr th:only-of-type {\n",
       "        vertical-align: middle;\n",
       "    }\n",
       "\n",
       "    .dataframe tbody tr th {\n",
       "        vertical-align: top;\n",
       "    }\n",
       "\n",
       "    .dataframe thead th {\n",
       "        text-align: right;\n",
       "    }\n",
       "</style>\n",
       "<table border=\"1\" class=\"dataframe\">\n",
       "  <thead>\n",
       "    <tr style=\"text-align: right;\">\n",
       "      <th></th>\n",
       "      <th>MarketID</th>\n",
       "      <th>MarketSize</th>\n",
       "      <th>LocationID</th>\n",
       "      <th>AgeOfStore</th>\n",
       "      <th>Promotion</th>\n",
       "      <th>week</th>\n",
       "      <th>SalesInThousands</th>\n",
       "    </tr>\n",
       "  </thead>\n",
       "  <tbody>\n",
       "    <tr>\n",
       "      <th>0</th>\n",
       "      <td>1</td>\n",
       "      <td>Medium</td>\n",
       "      <td>1</td>\n",
       "      <td>4</td>\n",
       "      <td>3</td>\n",
       "      <td>1</td>\n",
       "      <td>33.73</td>\n",
       "    </tr>\n",
       "    <tr>\n",
       "      <th>1</th>\n",
       "      <td>1</td>\n",
       "      <td>Medium</td>\n",
       "      <td>1</td>\n",
       "      <td>4</td>\n",
       "      <td>3</td>\n",
       "      <td>2</td>\n",
       "      <td>35.67</td>\n",
       "    </tr>\n",
       "    <tr>\n",
       "      <th>2</th>\n",
       "      <td>1</td>\n",
       "      <td>Medium</td>\n",
       "      <td>1</td>\n",
       "      <td>4</td>\n",
       "      <td>3</td>\n",
       "      <td>3</td>\n",
       "      <td>29.03</td>\n",
       "    </tr>\n",
       "    <tr>\n",
       "      <th>3</th>\n",
       "      <td>1</td>\n",
       "      <td>Medium</td>\n",
       "      <td>1</td>\n",
       "      <td>4</td>\n",
       "      <td>3</td>\n",
       "      <td>4</td>\n",
       "      <td>39.25</td>\n",
       "    </tr>\n",
       "    <tr>\n",
       "      <th>4</th>\n",
       "      <td>1</td>\n",
       "      <td>Medium</td>\n",
       "      <td>2</td>\n",
       "      <td>5</td>\n",
       "      <td>2</td>\n",
       "      <td>1</td>\n",
       "      <td>27.81</td>\n",
       "    </tr>\n",
       "  </tbody>\n",
       "</table>\n",
       "</div>"
      ],
      "text/plain": [
       "   MarketID MarketSize  LocationID  AgeOfStore  Promotion  week  \\\n",
       "0         1     Medium           1           4          3     1   \n",
       "1         1     Medium           1           4          3     2   \n",
       "2         1     Medium           1           4          3     3   \n",
       "3         1     Medium           1           4          3     4   \n",
       "4         1     Medium           2           5          2     1   \n",
       "\n",
       "   SalesInThousands  \n",
       "0             33.73  \n",
       "1             35.67  \n",
       "2             29.03  \n",
       "3             39.25  \n",
       "4             27.81  "
      ]
     },
     "execution_count": 69,
     "metadata": {},
     "output_type": "execute_result"
    }
   ],
   "source": [
    "df = pd.read_csv('/Users/huiqiongwu/Desktop/sales-analysis/WA_Marketing-Campaign.csv')\n",
    "df.info()\n",
    "df.head()"
   ]
  },
  {
   "cell_type": "markdown",
   "id": "f056d561",
   "metadata": {},
   "source": [
    "## Are the number of each promotion method simialr to others across all market size?"
   ]
  },
  {
   "cell_type": "code",
   "execution_count": 60,
   "id": "0168c5bf",
   "metadata": {},
   "outputs": [
    {
     "data": {
      "text/html": [
       "<div>\n",
       "<style scoped>\n",
       "    .dataframe tbody tr th:only-of-type {\n",
       "        vertical-align: middle;\n",
       "    }\n",
       "\n",
       "    .dataframe tbody tr th {\n",
       "        vertical-align: top;\n",
       "    }\n",
       "\n",
       "    .dataframe thead th {\n",
       "        text-align: right;\n",
       "    }\n",
       "</style>\n",
       "<table border=\"1\" class=\"dataframe\">\n",
       "  <thead>\n",
       "    <tr style=\"text-align: right;\">\n",
       "      <th>Promotion</th>\n",
       "      <th>1</th>\n",
       "      <th>2</th>\n",
       "      <th>3</th>\n",
       "    </tr>\n",
       "    <tr>\n",
       "      <th>MarketSize</th>\n",
       "      <th></th>\n",
       "      <th></th>\n",
       "      <th></th>\n",
       "    </tr>\n",
       "  </thead>\n",
       "  <tbody>\n",
       "    <tr>\n",
       "      <th>Large</th>\n",
       "      <td>56</td>\n",
       "      <td>64</td>\n",
       "      <td>48</td>\n",
       "    </tr>\n",
       "    <tr>\n",
       "      <th>Medium</th>\n",
       "      <td>96</td>\n",
       "      <td>108</td>\n",
       "      <td>116</td>\n",
       "    </tr>\n",
       "    <tr>\n",
       "      <th>Small</th>\n",
       "      <td>20</td>\n",
       "      <td>16</td>\n",
       "      <td>24</td>\n",
       "    </tr>\n",
       "  </tbody>\n",
       "</table>\n",
       "</div>"
      ],
      "text/plain": [
       "Promotion    1    2    3\n",
       "MarketSize              \n",
       "Large       56   64   48\n",
       "Medium      96  108  116\n",
       "Small       20   16   24"
      ]
     },
     "execution_count": 60,
     "metadata": {},
     "output_type": "execute_result"
    }
   ],
   "source": [
    "n = df.groupby(['MarketSize', 'Promotion']).MarketID.count().reset_index(name='Number of Promotion')\n",
    "pivot_n = pd.pivot(n, index='MarketSize', columns='Promotion', values='Number of Promotion')\n",
    "pivot_n"
   ]
  },
  {
   "cell_type": "code",
   "execution_count": 61,
   "id": "2c44c1dd",
   "metadata": {},
   "outputs": [],
   "source": [
    "pivot_n['Total Promotion'] = pivot_n.sum(axis=1)"
   ]
  },
  {
   "cell_type": "code",
   "execution_count": 62,
   "id": "63ece48a",
   "metadata": {},
   "outputs": [
    {
     "data": {
      "text/html": [
       "<div>\n",
       "<style scoped>\n",
       "    .dataframe tbody tr th:only-of-type {\n",
       "        vertical-align: middle;\n",
       "    }\n",
       "\n",
       "    .dataframe tbody tr th {\n",
       "        vertical-align: top;\n",
       "    }\n",
       "\n",
       "    .dataframe thead th {\n",
       "        text-align: right;\n",
       "    }\n",
       "</style>\n",
       "<table border=\"1\" class=\"dataframe\">\n",
       "  <thead>\n",
       "    <tr style=\"text-align: right;\">\n",
       "      <th>Promotion</th>\n",
       "      <th>1</th>\n",
       "      <th>2</th>\n",
       "      <th>3</th>\n",
       "      <th>Total Promotion</th>\n",
       "    </tr>\n",
       "    <tr>\n",
       "      <th>MarketSize</th>\n",
       "      <th></th>\n",
       "      <th></th>\n",
       "      <th></th>\n",
       "      <th></th>\n",
       "    </tr>\n",
       "  </thead>\n",
       "  <tbody>\n",
       "    <tr>\n",
       "      <th>Large</th>\n",
       "      <td>56</td>\n",
       "      <td>64</td>\n",
       "      <td>48</td>\n",
       "      <td>168</td>\n",
       "    </tr>\n",
       "    <tr>\n",
       "      <th>Medium</th>\n",
       "      <td>96</td>\n",
       "      <td>108</td>\n",
       "      <td>116</td>\n",
       "      <td>320</td>\n",
       "    </tr>\n",
       "    <tr>\n",
       "      <th>Small</th>\n",
       "      <td>20</td>\n",
       "      <td>16</td>\n",
       "      <td>24</td>\n",
       "      <td>60</td>\n",
       "    </tr>\n",
       "  </tbody>\n",
       "</table>\n",
       "</div>"
      ],
      "text/plain": [
       "Promotion    1    2    3  Total Promotion\n",
       "MarketSize                               \n",
       "Large       56   64   48              168\n",
       "Medium      96  108  116              320\n",
       "Small       20   16   24               60"
      ]
     },
     "execution_count": 62,
     "metadata": {},
     "output_type": "execute_result"
    }
   ],
   "source": [
    "pivot_n"
   ]
  },
  {
   "cell_type": "markdown",
   "id": "6a7fb237",
   "metadata": {},
   "source": [
    "## What is the total sales distribution across different promotion?"
   ]
  },
  {
   "cell_type": "code",
   "execution_count": 35,
   "id": "399f64b4",
   "metadata": {},
   "outputs": [
    {
     "data": {
      "text/html": [
       "<div>\n",
       "<style scoped>\n",
       "    .dataframe tbody tr th:only-of-type {\n",
       "        vertical-align: middle;\n",
       "    }\n",
       "\n",
       "    .dataframe tbody tr th {\n",
       "        vertical-align: top;\n",
       "    }\n",
       "\n",
       "    .dataframe thead th {\n",
       "        text-align: right;\n",
       "    }\n",
       "</style>\n",
       "<table border=\"1\" class=\"dataframe\">\n",
       "  <thead>\n",
       "    <tr style=\"text-align: right;\">\n",
       "      <th></th>\n",
       "      <th>Promotion</th>\n",
       "      <th>TotalSales</th>\n",
       "    </tr>\n",
       "  </thead>\n",
       "  <tbody>\n",
       "    <tr>\n",
       "      <th>0</th>\n",
       "      <td>1</td>\n",
       "      <td>9993.03</td>\n",
       "    </tr>\n",
       "    <tr>\n",
       "      <th>1</th>\n",
       "      <td>2</td>\n",
       "      <td>8897.93</td>\n",
       "    </tr>\n",
       "    <tr>\n",
       "      <th>2</th>\n",
       "      <td>3</td>\n",
       "      <td>10408.52</td>\n",
       "    </tr>\n",
       "  </tbody>\n",
       "</table>\n",
       "</div>"
      ],
      "text/plain": [
       "   Promotion  TotalSales\n",
       "0          1     9993.03\n",
       "1          2     8897.93\n",
       "2          3    10408.52"
      ]
     },
     "execution_count": 35,
     "metadata": {},
     "output_type": "execute_result"
    }
   ],
   "source": [
    "s = df.groupby(['Promotion'])['SalesInThousands'].sum().reset_index(name='TotalSales')\n",
    "s"
   ]
  },
  {
   "cell_type": "code",
   "execution_count": 47,
   "id": "bbd75502",
   "metadata": {},
   "outputs": [
    {
     "data": {
      "image/png": "[encoded data removed]",
      "text/plain": [
       "<Figure size 432x288 with 1 Axes>"
      ]
     },
     "metadata": {},
     "output_type": "display_data"
    }
   ],
   "source": [
    "#distribution of total sales of promotion\n",
    "labels = ['Promotion 1', 'Promotion 2', 'Promotion 3']\n",
    "#define Seaborn color palette to use\n",
    "colors = sns.color_palette('bright')[0:2]\n",
    "\n",
    "#create pie chart\n",
    "plt.pie(s['TotalSales'], labels = labels, colors = colors, autopct='%.0f%%')\n",
    "plt.title('Percentage of Total Sales of Different Promotion in Thousands')\n",
    "plt.show()"
   ]
  },
  {
   "cell_type": "markdown",
   "id": "53e548bc",
   "metadata": {},
   "source": [
    "Based on the pie chart, ptomotion 3 generated the most total sales value"
   ]
  },
  {
   "cell_type": "markdown",
   "id": "f4fb3f23",
   "metadata": {},
   "source": [
    "# A/B Testing"
   ]
  },
  {
   "cell_type": "markdown",
   "id": "e5464e30",
   "metadata": {},
   "source": [
    "## Are sales of promotion 3 significantly different enough from others? "
   ]
  },
  {
   "cell_type": "markdown",
   "id": "c3c0610e",
   "metadata": {},
   "source": [
    "### Hypothesis testing 1:\n",
    "The null hypothesis: the difference between promotion 3 and promotion 1 is significant; promotion 3 has bettter performance than promotion 1\n",
    "The alternate hypothesis: the difference between promotion 3 and promotion 1 is not significant"
   ]
  },
  {
   "cell_type": "markdown",
   "id": "8ada5ea8",
   "metadata": {},
   "source": [
    "### Hypothesis testing 2:\n",
    "The null hypothesis: the difference between promotion 3 and promotion 2 is significant; promotion 3 has bettter performance than promotion 2\n",
    "The alternate hypothesis: the difference between promotion 3 and promotion 2 is not significant"
   ]
  },
  {
   "cell_type": "code",
   "execution_count": 75,
   "id": "8436ef66",
   "metadata": {},
   "outputs": [],
   "source": [
    "promo_1 = df[df['Promotion']==1]['SalesInThousands']\n",
    "promo_2 = df[df['Promotion']==2]['SalesInThousands']\n",
    "promo_3 = df[df['Promotion']==3]['SalesInThousands']"
   ]
  },
  {
   "cell_type": "code",
   "execution_count": 85,
   "id": "9b4c37ab",
   "metadata": {},
   "outputs": [],
   "source": [
    "def ab_test(a_df, b_df):\n",
    "    a_mean = st.mean(a_df)\n",
    "    b_mean = st.mean(b_df)\n",
    "    a_std = st.pstdev(a_df)\n",
    "    b_std = st.pstdev(b_df)\n",
    "    t_value = stats.ttest_ind(a_df, b_df)\n",
    "    return a_mean, b_mean, a_std, b_std, t_value"
   ]
  },
  {
   "cell_type": "code",
   "execution_count": 86,
   "id": "9db7d4e4",
   "metadata": {},
   "outputs": [
    {
     "name": "stdout",
     "output_type": "stream",
     "text": [
      "The mean of total sales of promotion 3:  55.36446808510638\n",
      "The mean of total sales of promotion 1:  58.099011627906975\n",
      "The standard deviation of total sales of promotion 3:  16.72158027991051\n",
      "The standard deviation of total sales of promotion 1:  16.505590091107884\n",
      "significance test:  Ttest_indResult(statistic=-1.5551383687293547, pvalue=0.12079667272313273) \n",
      "\n"
     ]
    }
   ],
   "source": [
    "# t-test between promotion 3 and promotion 1\n",
    "mean3, mean1, std3, std1, t_value = ab_test(promo_3, promo_1)\n",
    "print('The mean of total sales of promotion 3: ',  mean3)\n",
    "print('The mean of total sales of promotion 1: ',  mean1)\n",
    "print('The standard deviation of total sales of promotion 3: ', std3)\n",
    "print('The standard deviation of total sales of promotion 1: ', std1)\n",
    "print(\"significance test: \", t_value, \"\\n\")"
   ]
  },
  {
   "cell_type": "code",
   "execution_count": 87,
   "id": "341e1268",
   "metadata": {},
   "outputs": [
    {
     "name": "stdout",
     "output_type": "stream",
     "text": [
      "The mean of total sales of promotion 3:  55.36446808510638\n",
      "The mean of total sales of promotion 2:  47.32941489361702\n",
      "The standard deviation of total sales of promotion 3:  16.72158027991051\n",
      "The standard deviation of total sales of promotion 2:  15.06871781448389\n",
      "significance test:  Ttest_indResult(statistic=4.88139271089348, pvalue=1.562894303627738e-06) \n",
      "\n"
     ]
    }
   ],
   "source": [
    "# t-test between promotion 3 and promotion 2\n",
    "mean3, mean2, std3, std2, t_value = ab_test(promo_3, promo_2)\n",
    "print('The mean of total sales of promotion 3: ',  mean3)\n",
    "print('The mean of total sales of promotion 2: ',  mean2)\n",
    "print('The standard deviation of total sales of promotion 3: ', std3)\n",
    "print('The standard deviation of total sales of promotion 2: ', std2)\n",
    "print(\"significance test: \", t_value, \"\\n\")"
   ]
  },
  {
   "cell_type": "markdown",
   "id": "3533e873",
   "metadata": {},
   "source": [
    "## Analysis:\n",
    "1. Promotion 3 does not significantly perform better than promotion 1. \n",
    "   The t-test of promotion 1 and promotion 3 has p-value greater than 0.05 with high t-value so the difference bewteen promotion 3 and promotion 1 is not significant, the null hypothesis is rejected. \n",
    "   \n",
    "2. Promotion 3 does significantly perform better than promotion 2. \n",
    "   The t-test of promotion 2 and promotion 3 has p-value smaller than 0.05 with low t-value so the difference bewteen promotion 3 and promotion 2 is significant, the null hypothesis is falied to reject.\n"
   ]
  },
  {
   "cell_type": "markdown",
   "id": "144e4b0f",
   "metadata": {},
   "source": [
    "## Do the insights become different when zooming in different market size?"
   ]
  },
  {
   "cell_type": "code",
   "execution_count": 90,
   "id": "fa9ad2a5",
   "metadata": {},
   "outputs": [
    {
     "data": {
      "text/html": [
       "<div>\n",
       "<style scoped>\n",
       "    .dataframe tbody tr th:only-of-type {\n",
       "        vertical-align: middle;\n",
       "    }\n",
       "\n",
       "    .dataframe tbody tr th {\n",
       "        vertical-align: top;\n",
       "    }\n",
       "\n",
       "    .dataframe thead th {\n",
       "        text-align: right;\n",
       "    }\n",
       "</style>\n",
       "<table border=\"1\" class=\"dataframe\">\n",
       "  <thead>\n",
       "    <tr style=\"text-align: right;\">\n",
       "      <th>Promotion</th>\n",
       "      <th>1</th>\n",
       "      <th>2</th>\n",
       "      <th>3</th>\n",
       "      <th>Total Sales</th>\n",
       "    </tr>\n",
       "    <tr>\n",
       "      <th>MarketSize</th>\n",
       "      <th></th>\n",
       "      <th></th>\n",
       "      <th></th>\n",
       "      <th></th>\n",
       "    </tr>\n",
       "  </thead>\n",
       "  <tbody>\n",
       "    <tr>\n",
       "      <th>Large</th>\n",
       "      <td>4213.21</td>\n",
       "      <td>3860.61</td>\n",
       "      <td>3705.79</td>\n",
       "      <td>11779.61</td>\n",
       "    </tr>\n",
       "    <tr>\n",
       "      <th>Medium</th>\n",
       "      <td>4576.57</td>\n",
       "      <td>4224.35</td>\n",
       "      <td>5274.39</td>\n",
       "      <td>14075.31</td>\n",
       "    </tr>\n",
       "    <tr>\n",
       "      <th>Small</th>\n",
       "      <td>1203.25</td>\n",
       "      <td>812.97</td>\n",
       "      <td>1428.34</td>\n",
       "      <td>3444.56</td>\n",
       "    </tr>\n",
       "  </tbody>\n",
       "</table>\n",
       "</div>"
      ],
      "text/plain": [
       "Promotion         1        2        3  Total Sales\n",
       "MarketSize                                        \n",
       "Large       4213.21  3860.61  3705.79     11779.61\n",
       "Medium      4576.57  4224.35  5274.39     14075.31\n",
       "Small       1203.25   812.97  1428.34      3444.56"
      ]
     },
     "execution_count": 90,
     "metadata": {},
     "output_type": "execute_result"
    }
   ],
   "source": [
    "d = df.groupby(['MarketSize', 'Promotion']).SalesInThousands.sum().reset_index(name='Total Sales')\n",
    "pivot_d = pd.pivot(d, index='MarketSize', columns='Promotion', values='Total Sales')\n",
    "pivot_d['Total Sales'] = pivot_d.sum(axis=1)\n",
    "pivot_d"
   ]
  },
  {
   "cell_type": "markdown",
   "id": "f84b34a7",
   "metadata": {},
   "source": [
    "### Large market size"
   ]
  },
  {
   "cell_type": "code",
   "execution_count": 91,
   "id": "b8e84e7e",
   "metadata": {},
   "outputs": [],
   "source": [
    "large = df[df['MarketSize']=='Large']\n",
    "pro_1 = large[large['Promotion']==1]['SalesInThousands']\n",
    "pro_2 = large[large['Promotion']==2]['SalesInThousands']\n",
    "pro_3 = large[large['Promotion']==3]['SalesInThousands']"
   ]
  },
  {
   "cell_type": "code",
   "execution_count": 92,
   "id": "ff9bcb54",
   "metadata": {},
   "outputs": [
    {
     "name": "stdout",
     "output_type": "stream",
     "text": [
      "The mean of total sales of promotion 3:  77.20395833333333\n",
      "The mean of total sales of promotion 1:  75.23589285714286\n",
      "The standard deviation of total sales of promotion 3:  14.24951150326204\n",
      "The standard deviation of total sales of promotion 1:  15.358503202831242\n",
      "significance test:  Ttest_indResult(statistic=0.6669468689809518, pvalue=0.5063120169025387) \n",
      "\n"
     ]
    }
   ],
   "source": [
    "# t-test between promotion 3 and promotion 1\n",
    "mean3, mean1, std3, std1, t_value = ab_test(pro_3, pro_1)\n",
    "print('The mean of total sales of promotion 3: ',  mean3)\n",
    "print('The mean of total sales of promotion 1: ',  mean1)\n",
    "print('The standard deviation of total sales of promotion 3: ', std3)\n",
    "print('The standard deviation of total sales of promotion 1: ', std1)\n",
    "print(\"significance test: \", t_value, \"\\n\")"
   ]
  },
  {
   "cell_type": "code",
   "execution_count": 93,
   "id": "aef10a1d",
   "metadata": {},
   "outputs": [
    {
     "name": "stdout",
     "output_type": "stream",
     "text": [
      "The mean of total sales of promotion 2:  60.32203125\n",
      "The mean of total sales of promotion 1:  75.23589285714286\n",
      "The standard deviation of total sales of promotion 2:  15.605166430112927\n",
      "The standard deviation of total sales of promotion 1:  15.358503202831242\n",
      "significance test:  Ttest_indResult(statistic=-5.21755636059224, pvalue=7.854262204192481e-07) \n",
      "\n"
     ]
    }
   ],
   "source": [
    "# t-test between promotion 2 and promotion 1\n",
    "mean2, mean1, std2, std1, t_value = ab_test(pro_2, pro_1)\n",
    "print('The mean of total sales of promotion 2: ',  mean2)\n",
    "print('The mean of total sales of promotion 1: ',  mean1)\n",
    "print('The standard deviation of total sales of promotion 2: ', std2)\n",
    "print('The standard deviation of total sales of promotion 1: ', std1)\n",
    "print(\"significance test: \", t_value, \"\\n\")"
   ]
  },
  {
   "cell_type": "markdown",
   "id": "4a0e3590",
   "metadata": {},
   "source": [
    "### Suggestion:\n",
    "Promotion 1 performs better than promotion 2. Company can utilize proformance 1 and 3 for Large market size. "
   ]
  },
  {
   "cell_type": "markdown",
   "id": "dfb5d26e",
   "metadata": {},
   "source": [
    "### Medium market size"
   ]
  },
  {
   "cell_type": "code",
   "execution_count": 95,
   "id": "e2ad9426",
   "metadata": {},
   "outputs": [],
   "source": [
    "medium = df[df['MarketSize']=='Medium']\n",
    "pro_1 = medium[medium['Promotion']==1]['SalesInThousands']\n",
    "pro_2 = medium[medium['Promotion']==2]['SalesInThousands']\n",
    "pro_3 = medium[medium['Promotion']==3]['SalesInThousands']"
   ]
  },
  {
   "cell_type": "code",
   "execution_count": 96,
   "id": "fb005684",
   "metadata": {},
   "outputs": [
    {
     "name": "stdout",
     "output_type": "stream",
     "text": [
      "The mean of total sales of promotion 3:  45.468879310344825\n",
      "The mean of total sales of promotion 1:  47.672604166666666\n",
      "The standard deviation of total sales of promotion 3:  8.056414104725086\n",
      "The standard deviation of total sales of promotion 1:  8.025203170428105\n",
      "significance test:  Ttest_indResult(statistic=-1.9765860321269122, pvalue=0.04939721833170492) \n",
      "\n"
     ]
    }
   ],
   "source": [
    "# t-test between promotion 3 and promotion 1\n",
    "mean3, mean1, std3, std1, t_value = ab_test(pro_3, pro_1)\n",
    "print('The mean of total sales of promotion 3: ',  mean3)\n",
    "print('The mean of total sales of promotion 1: ',  mean1)\n",
    "print('The standard deviation of total sales of promotion 3: ', std3)\n",
    "print('The standard deviation of total sales of promotion 1: ', std1)\n",
    "print(\"significance test: \", t_value, \"\\n\")"
   ]
  },
  {
   "cell_type": "code",
   "execution_count": 98,
   "id": "c586a5bb",
   "metadata": {},
   "outputs": [
    {
     "name": "stdout",
     "output_type": "stream",
     "text": [
      "The mean of total sales of promotion 2:  39.11435185185185\n",
      "The mean of total sales of promotion 3:  45.468879310344825\n",
      "The standard deviation of total sales of promotion 2:  8.7665371001355\n",
      "The standard deviation of total sales of promotion 3:  8.056414104725086\n",
      "significance test:  Ttest_indResult(statistic=-5.627926077289621, pvalue=5.470518861290425e-08) \n",
      "\n"
     ]
    }
   ],
   "source": [
    "# t-test between promotion 2 and promotion 3\n",
    "mean2, mean3, std2, std3, t_value = ab_test(pro_2, pro_3)\n",
    "print('The mean of total sales of promotion 2: ',  mean2)\n",
    "print('The mean of total sales of promotion 3: ',  mean3)\n",
    "print('The standard deviation of total sales of promotion 2: ', std2)\n",
    "print('The standard deviation of total sales of promotion 3: ', std3)\n",
    "print(\"significance test: \", t_value, \"\\n\")"
   ]
  },
  {
   "cell_type": "markdown",
   "id": "b9dc7edf",
   "metadata": {},
   "source": [
    "### Suggestion:\n",
    "Performace of promotion 3 is better than both those of promotion 2 anf promotion 1. Company can utilize promotion 3 for medium market"
   ]
  },
  {
   "cell_type": "markdown",
   "id": "8ef8bad2",
   "metadata": {},
   "source": [
    "### Small market size"
   ]
  },
  {
   "cell_type": "code",
   "execution_count": 100,
   "id": "1a18f3c2",
   "metadata": {},
   "outputs": [],
   "source": [
    "small = df[df['MarketSize']=='Small']\n",
    "pro_1 = small[small['Promotion']==1]['SalesInThousands']\n",
    "pro_2 = small[small['Promotion']==2]['SalesInThousands']\n",
    "pro_3 = small[small['Promotion']==3]['SalesInThousands']"
   ]
  },
  {
   "cell_type": "code",
   "execution_count": 101,
   "id": "45432efb",
   "metadata": {},
   "outputs": [
    {
     "name": "stdout",
     "output_type": "stream",
     "text": [
      "The mean of total sales of promotion 3:  59.51416666666667\n",
      "The mean of total sales of promotion 1:  60.1625\n",
      "The standard deviation of total sales of promotion 3:  5.102933728639721\n",
      "The standard deviation of total sales of promotion 1:  4.997453226394421\n",
      "significance test:  Ttest_indResult(statistic=-0.41385419784316163, pvalue=0.6810867067433423) \n",
      "\n"
     ]
    }
   ],
   "source": [
    "# t-test between promotion 3 and promotion 1\n",
    "mean3, mean1, std3, std1, t_value = ab_test(pro_3, pro_1)\n",
    "print('The mean of total sales of promotion 3: ',  mean3)\n",
    "print('The mean of total sales of promotion 1: ',  mean1)\n",
    "print('The standard deviation of total sales of promotion 3: ', std3)\n",
    "print('The standard deviation of total sales of promotion 1: ', std1)\n",
    "print(\"significance test: \", t_value, \"\\n\")"
   ]
  },
  {
   "cell_type": "code",
   "execution_count": 102,
   "id": "a956d782",
   "metadata": {},
   "outputs": [
    {
     "name": "stdout",
     "output_type": "stream",
     "text": [
      "The mean of total sales of promotion 2:  50.810625\n",
      "The mean of total sales of promotion 3:  59.51416666666667\n",
      "The standard deviation of total sales of promotion 2:  5.6834248793641144\n",
      "The standard deviation of total sales of promotion 3:  5.102933728639721\n",
      "significance test:  Ttest_indResult(statistic=-4.919628529158041, pvalue=1.7059958706547655e-05) \n",
      "\n"
     ]
    }
   ],
   "source": [
    "# t-test between promotion 2 and promotion 3\n",
    "mean2, mean3, std2, std3, t_value = ab_test(pro_2, pro_3)\n",
    "print('The mean of total sales of promotion 2: ',  mean2)\n",
    "print('The mean of total sales of promotion 3: ',  mean3)\n",
    "print('The standard deviation of total sales of promotion 2: ', std2)\n",
    "print('The standard deviation of total sales of promotion 3: ', std3)\n",
    "print(\"significance test: \", t_value, \"\\n\")"
   ]
  },
  {
   "cell_type": "markdown",
   "id": "8758ddd8",
   "metadata": {},
   "source": [
    "### Suggestion:\n",
    "The performace of promotion 3 is better than promotion 2. Company can utilize promotion 3 and promotion 1 for small market"
   ]
  },
  {
   "cell_type": "code",
   "execution_count": null,
   "id": "67f9825f",
   "metadata": {},
   "outputs": [],
   "source": []
  }
 ],
 "metadata": {
  "kernelspec": {
   "display_name": "Python 3 (ipykernel)",
   "language": "python",
   "name": "python3"
  },
  "language_info": {
   "codemirror_mode": {
    "name": "ipython",
    "version": 3
   },
   "file_extension": ".py",
   "mimetype": "text/x-python",
   "name": "python",
   "nbconvert_exporter": "python",
   "pygments_lexer": "ipython3",
   "version": "3.9.7"
  }
 },
 "nbformat": 4,
 "nbformat_minor": 5
}
